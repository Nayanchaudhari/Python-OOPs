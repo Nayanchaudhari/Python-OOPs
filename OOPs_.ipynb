{
  "nbformat": 4,
  "nbformat_minor": 0,
  "metadata": {
    "colab": {
      "provenance": []
    },
    "kernelspec": {
      "name": "python3",
      "display_name": "Python 3"
    },
    "language_info": {
      "name": "python"
    }
  },
  "cells": [
    {
      "cell_type": "markdown",
      "source": [
        "**Python OOPs Questions**\n",
        "\n",
        "1.What is Object-Oriented Programming (OOP)?\n",
        " - Object-Oriented Programming (OOP) is a programming style based on the concept of objects, which contain data (attributes) and functions (methods).\n",
        "\n",
        "2.What is a class in OOP?\n",
        " - A class in Object-Oriented Programming (OOP) is a blueprint or template for creating objects.\n",
        "\n",
        "3.What is an object in OOP?\n",
        " - An object in Object-Oriented Programming (OOP) is an instance of a class.\n",
        " - It represents a real-world entity that has:\n",
        "    - Attributes (property)\n",
        "    - Methods (functions)\n",
        "\n",
        "4.What is the difference between abstraction and encapsulation?\n",
        " - Abstraction is about hiding complexity.\n",
        " - Encapsulation is about hiding data.\n",
        "\n",
        "5.What are dunder methods in Python?\n",
        " - Dunder methods in Python (short for \"double underscore\" methods) are special methods with names that start and end with double underscores, like __init__, __str__, __len__, etc.\n",
        "\n",
        "6.Explain the concept of inheritance in OOP?\n",
        " - Inheritance in Object-Oriented Programming (OOP) is the concept where a child class (or subclass) inherits the properties and methods of a parent class (or superclass).\n",
        "\n",
        "7.What is polymorphism in OOP?\n",
        " - Polymorphism in Object-Oriented Programming (OOP) means \"many forms\" — the ability of different classes to provide different implementations of the same method or interface.\n",
        "\n",
        "8.How is encapsulation achieved in Python?\n",
        " - Encapsulation in Python is achieved by restricting access to the internal variables and methods of a class, and controlling it through public methods (getters and setters).\n",
        "\n",
        " 9.What is a constructor in Python?\n",
        " - A constructor in Python is a special method named __init__() that      automatically runs when an object is created and is used to initialize its attributes.\n",
        "\n",
        " 10.What are class and static methods in Python?\n",
        "  - Class Method: A method that takes cls as the first parameter and works with class-level data. Defined using @classmethod.\n",
        "  - Static Method: A method that does not use self or cls, and behaves like a regular function inside a class. Defined using @staticmethod.\n",
        "\n",
        "11.What is method overloading in Python?\n",
        " - Method overloading in Python means defining a method that can accept different numbers or types of arguments.\n",
        "\n",
        " 12.What is method overriding in OOP?\n",
        "  - Method overriding is the process of redefining a parent class method in a child class to change or extend its behavior.  \n",
        "\n",
        "13.What is a property decorator in Python?\n",
        " - @property is a Python decorator that we access a method like an attribute, mainly used to get the value of private variables in a clean way.\n",
        "\n",
        "14.Why is polymorphism important in OOP?\n",
        " - Polymorphism is important in OOP because it allows one interface to work with different types of objects, making code more: Flexible and reusable.\n",
        "\n",
        "15.What is an abstract class in Python?\n",
        " - An abstract class in Python is a class that cannot be instantiated directly and is meant to be inherited.\n",
        "\n",
        " 16.What are the advantages of OOP?\n",
        "  - Reusable code :- Use the same code again with inheritance.\n",
        "  - Better organization :- Code is divided into classes, making it neat.\n",
        "  - Data protection :- Keeps data safe using encapsulation.\n",
        "  - Easy to update :- Changes are easier to make.\n",
        "\n",
        "17.What is the difference between a class variable and an instance variable?\n",
        "  - Class variable: Shared by all objects of a class.\n",
        "  - Instance variable: Unique to each object.\n",
        "\n",
        "18.What is multiple inheritance in Python?\n",
        " - Multiple inheritance in Python means a class can inherit from more than one parent class.\n",
        "\n",
        "19.Explain the purpose of ‘’__str__’ and ‘__repr__’ ‘ methods in Python.\n",
        " - __str__: Returns a user-friendly string representation of the object. Used by print().\n",
        " - __repr__: Returns a developer-friendly representation. Used in debugging\n",
        "\n",
        "20.What is the significance of the ‘super()’ function in Python?\n",
        " - The super() function in Python is used to call methods from a parent class in a child class.\n",
        "\n",
        "21.What is the significance of the __del__ method in Python?\n",
        " - __del__ is a special method in Python called when an object is deleted.\n",
        "\n",
        "22.What is the difference between @staticmethod and @classmethod in Python?\n",
        " - @staticmethod: Doesn’t use self or cls; can’t access class or instance data.\n",
        " - @classmethod: Takes cls as argument; can access and modify class-level data.\n",
        "\n",
        "23.How does polymorphism work in Python with inheritance?\n",
        " - Polymorphism with inheritance in Python lets child classes override parent methods, so the same method name behaves differently depending on the object's class.\n",
        "\n",
        "24.What is method chaining in Python OOP?\n",
        " - Method chaining in Python OOP means calling multiple methods on the same object in a single line, by making each method return self.\n",
        "\n",
        "25.What is the purpose of the __call__ method in Python?\n",
        " - The purpose of __call__ is to make an object behave like a function.  \n",
        "\n"
      ],
      "metadata": {
        "id": "gHN4yrKU4GaR"
      }
    },
    {
      "cell_type": "code",
      "execution_count": null,
      "metadata": {
        "id": "a--L4GyW38Q8"
      },
      "outputs": [],
      "source": [
        "#Practical Questions"
      ]
    },
    {
      "cell_type": "code",
      "source": [
        "#1. Create a parent class Animal with a method speak() that prints a generic message. Create a child class Dog that overrides the speak() method to print \"Bark!\".\n",
        "class Animal:\n",
        "  def speak(self):\n",
        "    print(\"a generic message\")\n",
        "class Dog(Animal):\n",
        "  def speak(self):\n",
        "    print(\"Bark!\")"
      ],
      "metadata": {
        "id": "OwHNBQYYEkUO"
      },
      "execution_count": null,
      "outputs": []
    },
    {
      "cell_type": "code",
      "source": [
        "obj_Dog = Dog()"
      ],
      "metadata": {
        "id": "YTHqaWQIFoze"
      },
      "execution_count": null,
      "outputs": []
    },
    {
      "cell_type": "code",
      "source": [
        "obj_Dog.speak()"
      ],
      "metadata": {
        "colab": {
          "base_uri": "https://localhost:8080/"
        },
        "id": "I7NpSdViFyAh",
        "outputId": "37b6b7d6-7fd0-4233-bd0f-88de29760993"
      },
      "execution_count": null,
      "outputs": [
        {
          "output_type": "stream",
          "name": "stdout",
          "text": [
            "Bark!\n"
          ]
        }
      ]
    },
    {
      "cell_type": "code",
      "source": [
        "#2.Write a program to create an abstract class Shape with a method area(). Derive classes Circle and Rectangle from it and implement the area() method in both.\n",
        "import abc\n",
        "class Shape(abc.ABC):\n",
        "  @abc.abstractmethod\n",
        "  def area(self):\n",
        "    pass\n",
        "\n",
        "class Circle(Shape):\n",
        "  def __init__(self,radius):\n",
        "    self.radius = radius\n",
        "  def area(self):\n",
        "    return 3.14 * self.radius * self.radius\n",
        "\n",
        "class Rectangle(Shape):\n",
        "  def __init__(self,length,width):\n",
        "    self.length = length\n",
        "    self.width = width\n",
        "  def area(self):\n",
        "    return self.length * self.width\n"
      ],
      "metadata": {
        "id": "e_TYAVT1F7sn"
      },
      "execution_count": null,
      "outputs": []
    },
    {
      "cell_type": "code",
      "source": [
        "c = Circle(5)\n",
        "c.radius\n",
        "c.area()"
      ],
      "metadata": {
        "colab": {
          "base_uri": "https://localhost:8080/"
        },
        "id": "KVuSXT7XMYgv",
        "outputId": "bc4ed785-7944-4fdf-f139-d1783bab83de"
      },
      "execution_count": null,
      "outputs": [
        {
          "output_type": "execute_result",
          "data": {
            "text/plain": [
              "78.5"
            ]
          },
          "metadata": {},
          "execution_count": 121
        }
      ]
    },
    {
      "cell_type": "code",
      "source": [
        "r = Rectangle(5,5)\n",
        "r.length\n",
        "r.width\n",
        "r.area()"
      ],
      "metadata": {
        "colab": {
          "base_uri": "https://localhost:8080/"
        },
        "id": "OxopJ6F4MlfE",
        "outputId": "6fe49aa7-17f4-4777-9c01-1379d89fbbe0"
      },
      "execution_count": null,
      "outputs": [
        {
          "output_type": "execute_result",
          "data": {
            "text/plain": [
              "25"
            ]
          },
          "metadata": {},
          "execution_count": 122
        }
      ]
    },
    {
      "cell_type": "code",
      "source": [
        "#3. Implement a multi-level inheritance scenario where a class Vehicle has an attribute type. Derive a class Car and further derive a class ElectricCar that adds a battery attribute.\n",
        "class Vehicle:\n",
        "  def __init__(self,vehicle_type):\n",
        "    self.vehicle_type = vehicle_type\n",
        "\n",
        "  def show_type(self):\n",
        "    print(\"Vehicle Type: \",self.vehicle_type)\n",
        "\n",
        "class Car(Vehicle):\n",
        "  def __init__(self,vehicle_type,brand):\n",
        "    super().__init__(vehicle_type)\n",
        "    self.brand = brand\n",
        "\n",
        "  def show_brand(self):\n",
        "    print(\"Car Brand : \",self.brand)\n",
        "\n",
        "class ElectricCar(Car):\n",
        "  def __init__(self,vehicle_type,brand,battery):\n",
        "    super().__init__(vehicle_type,brand)\n",
        "    self.battery = battery\n",
        "\n",
        "  def show_battery(self):\n",
        "    print(\"Battery Type : \",self.battery)"
      ],
      "metadata": {
        "id": "e7mJlx2nOnYL"
      },
      "execution_count": null,
      "outputs": []
    },
    {
      "cell_type": "code",
      "source": [
        "obj_EC = ElectricCar(\"Four wheeler\",\"Tata\",\"Lithium-ion\")"
      ],
      "metadata": {
        "id": "KSUsH40DWOxl"
      },
      "execution_count": null,
      "outputs": []
    },
    {
      "cell_type": "code",
      "source": [
        "obj_EC.vehicle_type"
      ],
      "metadata": {
        "colab": {
          "base_uri": "https://localhost:8080/",
          "height": 36
        },
        "id": "EfwvhrYZXT1r",
        "outputId": "fd459242-af51-468d-fb8c-99855f4e1fea"
      },
      "execution_count": null,
      "outputs": [
        {
          "output_type": "execute_result",
          "data": {
            "text/plain": [
              "'Four wheeler'"
            ],
            "application/vnd.google.colaboratory.intrinsic+json": {
              "type": "string"
            }
          },
          "metadata": {},
          "execution_count": 54
        }
      ]
    },
    {
      "cell_type": "code",
      "source": [
        "obj_EC.show_type()"
      ],
      "metadata": {
        "colab": {
          "base_uri": "https://localhost:8080/"
        },
        "id": "znX_2FbvX8wX",
        "outputId": "ccac2b9f-bab4-4741-8eb5-c8401baccf8d"
      },
      "execution_count": null,
      "outputs": [
        {
          "output_type": "stream",
          "name": "stdout",
          "text": [
            "Vehicle Type:  Four wheeler\n"
          ]
        }
      ]
    },
    {
      "cell_type": "code",
      "source": [
        "obj_EC.brand"
      ],
      "metadata": {
        "colab": {
          "base_uri": "https://localhost:8080/",
          "height": 36
        },
        "id": "XwBO5IiJYCFv",
        "outputId": "20243c80-9455-453c-b29b-4b1eecb9492e"
      },
      "execution_count": null,
      "outputs": [
        {
          "output_type": "execute_result",
          "data": {
            "text/plain": [
              "'Tata'"
            ],
            "application/vnd.google.colaboratory.intrinsic+json": {
              "type": "string"
            }
          },
          "metadata": {},
          "execution_count": 59
        }
      ]
    },
    {
      "cell_type": "code",
      "source": [
        "obj_EC.show_type()"
      ],
      "metadata": {
        "colab": {
          "base_uri": "https://localhost:8080/"
        },
        "id": "CqIrG1MQYUYj",
        "outputId": "70a9f8a3-d00f-4c04-891d-4f8b7c057839"
      },
      "execution_count": null,
      "outputs": [
        {
          "output_type": "stream",
          "name": "stdout",
          "text": [
            "Vehicle Type:  Four wheeler\n"
          ]
        }
      ]
    },
    {
      "cell_type": "code",
      "source": [
        "obj_EC.battery"
      ],
      "metadata": {
        "colab": {
          "base_uri": "https://localhost:8080/",
          "height": 36
        },
        "id": "H-n6Oh9nYcMr",
        "outputId": "5aab2a58-c9ff-443f-ee3b-b8f6fd84b7b5"
      },
      "execution_count": null,
      "outputs": [
        {
          "output_type": "execute_result",
          "data": {
            "text/plain": [
              "'Lithium-ion'"
            ],
            "application/vnd.google.colaboratory.intrinsic+json": {
              "type": "string"
            }
          },
          "metadata": {},
          "execution_count": 62
        }
      ]
    },
    {
      "cell_type": "code",
      "source": [
        "obj_EC.show_battery()"
      ],
      "metadata": {
        "colab": {
          "base_uri": "https://localhost:8080/"
        },
        "id": "VzKm4U5WYi9S",
        "outputId": "1518a96f-4b6e-44b2-f3ee-9b7713ef284c"
      },
      "execution_count": null,
      "outputs": [
        {
          "output_type": "stream",
          "name": "stdout",
          "text": [
            "Battery Type :  Lithium-ion\n"
          ]
        }
      ]
    },
    {
      "cell_type": "code",
      "source": [
        "#4. Demonstrate polymorphism by creating a base class Bird with a method fly(). Create two derived classes Sparrow and Penguin that override the fly() method.\n",
        "class Bird:\n",
        "  def fly(self):\n",
        "    print(\"Bird can fly\")\n",
        "\n",
        "class Sparrow(Bird):\n",
        "  def fly(self):\n",
        "    print(\"Sparrow can fly\")\n",
        "\n",
        "class Penguin(Bird):\n",
        "  def fly(self):\n",
        "    print(\"Penguin can run\")"
      ],
      "metadata": {
        "id": "mtxfA6fHYm_h"
      },
      "execution_count": null,
      "outputs": []
    },
    {
      "cell_type": "code",
      "source": [
        "b1 = Sparrow()"
      ],
      "metadata": {
        "id": "I_OQLVPBDUxZ"
      },
      "execution_count": null,
      "outputs": []
    },
    {
      "cell_type": "code",
      "source": [
        "b2 = Penguin()"
      ],
      "metadata": {
        "id": "8e3zCyFzDcNB"
      },
      "execution_count": null,
      "outputs": []
    },
    {
      "cell_type": "code",
      "source": [
        "B = [b1,b2]"
      ],
      "metadata": {
        "id": "yCql2P-lDhwn"
      },
      "execution_count": null,
      "outputs": []
    },
    {
      "cell_type": "code",
      "source": [
        "def Bird_fly(B):\n",
        "  for i in B:\n",
        "    i.fly()"
      ],
      "metadata": {
        "id": "5CKfZDiZEcr4"
      },
      "execution_count": null,
      "outputs": []
    },
    {
      "cell_type": "code",
      "source": [
        "Bird_fly(B)"
      ],
      "metadata": {
        "colab": {
          "base_uri": "https://localhost:8080/"
        },
        "id": "LCC48gWGElaf",
        "outputId": "11c1f58c-ebe2-4d41-e7ba-7fb9e0e57970"
      },
      "execution_count": null,
      "outputs": [
        {
          "output_type": "stream",
          "name": "stdout",
          "text": [
            "Sparrow can fly\n",
            "Penguin can run\n"
          ]
        }
      ]
    },
    {
      "cell_type": "code",
      "source": [
        "#5.Write a program to demonstrate encapsulation by creating a class BankAccount with private attributes balance and methods to deposit, withdraw, and check balance.\n",
        "class BankAccount:\n",
        "  def __init__(self,balance):\n",
        "    self.__balance = balance\n",
        "\n",
        "  def deposit(self,amount):\n",
        "    self.__balance = self.__balance + amount\n",
        "\n",
        "  def withdraw(self,amount):\n",
        "    if self.__balance > amount:\n",
        "      self.__balance = self.__balance - amount\n",
        "    else:\n",
        "      print(\"Insufficient amount\")\n",
        "\n",
        "  def check_balance(self):\n",
        "    return self.__balance\n"
      ],
      "metadata": {
        "id": "WAlbQdulEoUC"
      },
      "execution_count": null,
      "outputs": []
    },
    {
      "cell_type": "code",
      "source": [
        "BA = BankAccount(1000)"
      ],
      "metadata": {
        "id": "EMtenldIGyeq"
      },
      "execution_count": null,
      "outputs": []
    },
    {
      "cell_type": "code",
      "source": [
        "BA.deposit(500)"
      ],
      "metadata": {
        "id": "TuRi0pEVHA--"
      },
      "execution_count": null,
      "outputs": []
    },
    {
      "cell_type": "code",
      "source": [
        "BA.check_balance()"
      ],
      "metadata": {
        "colab": {
          "base_uri": "https://localhost:8080/"
        },
        "id": "3i8wa4tkHLEt",
        "outputId": "df584d9f-1d20-4f72-9361-5acd46178374"
      },
      "execution_count": null,
      "outputs": [
        {
          "output_type": "execute_result",
          "data": {
            "text/plain": [
              "1500"
            ]
          },
          "metadata": {},
          "execution_count": 20
        }
      ]
    },
    {
      "cell_type": "code",
      "source": [
        "BA.withdraw(1000)"
      ],
      "metadata": {
        "id": "NOeaUG17HYMb"
      },
      "execution_count": null,
      "outputs": []
    },
    {
      "cell_type": "code",
      "source": [
        "BA.check_balance()"
      ],
      "metadata": {
        "colab": {
          "base_uri": "https://localhost:8080/"
        },
        "id": "I1cVUk1BHdEV",
        "outputId": "d7bc95b8-ad0a-4cdb-cc34-74d54675bc7e"
      },
      "execution_count": null,
      "outputs": [
        {
          "output_type": "execute_result",
          "data": {
            "text/plain": [
              "500"
            ]
          },
          "metadata": {},
          "execution_count": 22
        }
      ]
    },
    {
      "cell_type": "code",
      "source": [
        "#6.Demonstrate runtime polymorphism using a method play() in a base class Instrument. Derive classes Guitar and Piano that implement their own version of play().\n",
        "class Instrument:\n",
        "  def play(self):\n",
        "    print(\"play the instrument\")\n",
        "\n",
        "class Guitar(Instrument):\n",
        "  def play(self):\n",
        "    print(\"play the guitar\")\n",
        "\n",
        "class Piano(Instrument):\n",
        "  def play(self):\n",
        "    print(\"play the piano\")\n"
      ],
      "metadata": {
        "id": "w9-nXCGfHlyh"
      },
      "execution_count": null,
      "outputs": []
    },
    {
      "cell_type": "code",
      "source": [
        "i1 = Guitar()\n"
      ],
      "metadata": {
        "id": "Mfixphk0KC-X"
      },
      "execution_count": null,
      "outputs": []
    },
    {
      "cell_type": "code",
      "source": [
        "i2 = Piano()"
      ],
      "metadata": {
        "id": "SQSRCsF5KTo4"
      },
      "execution_count": null,
      "outputs": []
    },
    {
      "cell_type": "code",
      "source": [
        "obj = [i1,i2]"
      ],
      "metadata": {
        "id": "n_WYzdyXKXIA"
      },
      "execution_count": null,
      "outputs": []
    },
    {
      "cell_type": "code",
      "source": [
        "def instruments(obj):\n",
        "  for i in obj:\n",
        "    i.play()\n",
        "\n",
        "instruments(obj)"
      ],
      "metadata": {
        "colab": {
          "base_uri": "https://localhost:8080/"
        },
        "id": "NOHJy9xeKnF-",
        "outputId": "0ac302bb-600e-4bbe-eba4-2a6de0ec9366"
      },
      "execution_count": null,
      "outputs": [
        {
          "output_type": "stream",
          "name": "stdout",
          "text": [
            "play the guitar\n",
            "play the piano\n"
          ]
        }
      ]
    },
    {
      "cell_type": "code",
      "source": [
        "#7. Create a class MathOperations with a class method add_numbers() to add two numbers and a static method subtract_numbers() to subtract two numbers.\n",
        "class MathOperations:\n",
        "  @classmethod\n",
        "  def add_numbers(cls,num1,num2):\n",
        "    return num1 + num2\n",
        "\n",
        "  @staticmethod\n",
        "  def subtract_numbers(num1,num2):\n",
        "    return num1 - num2"
      ],
      "metadata": {
        "id": "f5IWfj9xKxIp"
      },
      "execution_count": null,
      "outputs": []
    },
    {
      "cell_type": "code",
      "source": [
        "MathOperations.add_numbers(5,5)"
      ],
      "metadata": {
        "colab": {
          "base_uri": "https://localhost:8080/"
        },
        "id": "DlBKHi3KMyWQ",
        "outputId": "aae88908-aca0-480e-ea51-cbcc2a276d3c"
      },
      "execution_count": null,
      "outputs": [
        {
          "output_type": "execute_result",
          "data": {
            "text/plain": [
              "10"
            ]
          },
          "metadata": {},
          "execution_count": 54
        }
      ]
    },
    {
      "cell_type": "code",
      "source": [
        "MathOperations.subtract_numbers(10,5)"
      ],
      "metadata": {
        "colab": {
          "base_uri": "https://localhost:8080/"
        },
        "id": "eF045axeM1hu",
        "outputId": "8af7bea6-21a4-4304-ec3f-f48467d677bf"
      },
      "execution_count": null,
      "outputs": [
        {
          "output_type": "execute_result",
          "data": {
            "text/plain": [
              "5"
            ]
          },
          "metadata": {},
          "execution_count": 55
        }
      ]
    },
    {
      "cell_type": "code",
      "source": [
        "#8.Implement a class Person with a class method to count the total number of persons created.\n",
        "class Person:\n",
        "  count = 0\n",
        "  def __init__(self):\n",
        "    Person.count = Person.count + 1\n",
        "\n",
        "  @classmethod\n",
        "  def total_number(cls):\n",
        "    return cls.count\n"
      ],
      "metadata": {
        "id": "2Y12xDRkM7YD"
      },
      "execution_count": null,
      "outputs": []
    },
    {
      "cell_type": "code",
      "source": [
        "p1 = Person()"
      ],
      "metadata": {
        "id": "1604z_01OXwk"
      },
      "execution_count": null,
      "outputs": []
    },
    {
      "cell_type": "code",
      "source": [
        "p2 = Person()"
      ],
      "metadata": {
        "id": "zwjS1wzKOaQc"
      },
      "execution_count": null,
      "outputs": []
    },
    {
      "cell_type": "code",
      "source": [
        "p3 = Person()"
      ],
      "metadata": {
        "id": "wEDbWoVKQyT7"
      },
      "execution_count": null,
      "outputs": []
    },
    {
      "cell_type": "code",
      "source": [
        "Person.total_number()"
      ],
      "metadata": {
        "colab": {
          "base_uri": "https://localhost:8080/"
        },
        "id": "rqdUh3xbOeO_",
        "outputId": "030de882-7ad8-44ff-ee1d-f0c7b9764d43"
      },
      "execution_count": null,
      "outputs": [
        {
          "output_type": "execute_result",
          "data": {
            "text/plain": [
              "3"
            ]
          },
          "metadata": {},
          "execution_count": 98
        }
      ]
    },
    {
      "cell_type": "code",
      "source": [
        "#9.Write a class Fraction with attributes numerator and denominator. Override the str method to display the fraction as \"numerator/denominator\".\n",
        "class Fraction:\n",
        "  def __init__(self,numerator,denominator):\n",
        "    self.numerator = numerator\n",
        "    self.denominator = denominator\n",
        "\n",
        "  def __str__(self):\n",
        "    return f\"fraction as '{self.numerator} / {self.denominator}'\""
      ],
      "metadata": {
        "id": "9URgBsJAOgpN"
      },
      "execution_count": null,
      "outputs": []
    },
    {
      "cell_type": "code",
      "source": [
        "Fraction(10,5)"
      ],
      "metadata": {
        "colab": {
          "base_uri": "https://localhost:8080/"
        },
        "id": "ZamIXf-gplGy",
        "outputId": "cc281442-276c-40c0-d215-df81a4f51b83"
      },
      "execution_count": null,
      "outputs": [
        {
          "output_type": "execute_result",
          "data": {
            "text/plain": [
              "<__main__.Fraction at 0x77fbf373c910>"
            ]
          },
          "metadata": {},
          "execution_count": 73
        }
      ]
    },
    {
      "cell_type": "code",
      "source": [
        "print(Fraction(10,5))"
      ],
      "metadata": {
        "colab": {
          "base_uri": "https://localhost:8080/"
        },
        "id": "JuQZwLVPpqkf",
        "outputId": "2ff45618-a169-47f7-b437-a96b07beb664"
      },
      "execution_count": null,
      "outputs": [
        {
          "output_type": "stream",
          "name": "stdout",
          "text": [
            "fraction as '10 / 5'\n"
          ]
        }
      ]
    },
    {
      "cell_type": "code",
      "source": [
        "#10.Demonstrate operator overloading by creating a class Vector and overriding the add method to add two vectors.\n",
        "class Vector:\n",
        "  def __init__(self,num1,num2):\n",
        "    self.num1 = num1\n",
        "    self.num2 = num2\n",
        "\n",
        "  def __add__(self,other):\n",
        "    return Vector(self.num1 + other.num1,self.num2 + other.num2)"
      ],
      "metadata": {
        "id": "0YP7d-3OS--X"
      },
      "execution_count": null,
      "outputs": []
    },
    {
      "cell_type": "code",
      "source": [
        "v1 =  Vector(10,10)\n",
        "v2 = Vector(10,10)\n",
        "v = v1 + v2\n",
        "print(v.num1,v.num2)\n"
      ],
      "metadata": {
        "colab": {
          "base_uri": "https://localhost:8080/"
        },
        "id": "vXWo8Vkwr_ez",
        "outputId": "7e2f287a-325d-487e-c98d-72ad08b4f8cb"
      },
      "execution_count": null,
      "outputs": [
        {
          "output_type": "stream",
          "name": "stdout",
          "text": [
            "20 20\n"
          ]
        }
      ]
    },
    {
      "cell_type": "code",
      "source": [
        "#11.Create a class Person with attributes name and age. Add a method greet() that prints \"Hello, my name is {name} and I am {age} years old.\"\n",
        "class Person:\n",
        "  def __init__(self,name,age):\n",
        "    self.name = name\n",
        "    self.age = age\n",
        "\n",
        "  def greet(self):\n",
        "    print(f\"Hello,my name is {self.name} and I am {self.age} years old.\")"
      ],
      "metadata": {
        "id": "1xDASNJBTCRX"
      },
      "execution_count": null,
      "outputs": []
    },
    {
      "cell_type": "code",
      "source": [
        "p = Person(\"Nayan\",23)"
      ],
      "metadata": {
        "id": "Up6gzh08W7Sf"
      },
      "execution_count": null,
      "outputs": []
    },
    {
      "cell_type": "code",
      "source": [
        "p.name"
      ],
      "metadata": {
        "colab": {
          "base_uri": "https://localhost:8080/",
          "height": 36
        },
        "id": "JWTPAHyVW_r4",
        "outputId": "b751e839-661f-4dfe-b1e5-fa589fdd3793"
      },
      "execution_count": null,
      "outputs": [
        {
          "output_type": "execute_result",
          "data": {
            "text/plain": [
              "'Nayan'"
            ],
            "application/vnd.google.colaboratory.intrinsic+json": {
              "type": "string"
            }
          },
          "metadata": {},
          "execution_count": 115
        }
      ]
    },
    {
      "cell_type": "code",
      "source": [
        "p.age"
      ],
      "metadata": {
        "colab": {
          "base_uri": "https://localhost:8080/"
        },
        "id": "sRuehXxeXFAj",
        "outputId": "a754a53c-433f-4949-8b7f-f4b9fcf2c5fc"
      },
      "execution_count": null,
      "outputs": [
        {
          "output_type": "execute_result",
          "data": {
            "text/plain": [
              "23"
            ]
          },
          "metadata": {},
          "execution_count": 116
        }
      ]
    },
    {
      "cell_type": "code",
      "source": [
        "p.greet()"
      ],
      "metadata": {
        "colab": {
          "base_uri": "https://localhost:8080/"
        },
        "id": "LfGo0jkmXGUI",
        "outputId": "bfe9d849-4e30-4668-e71e-8b6e1f363c1c"
      },
      "execution_count": null,
      "outputs": [
        {
          "output_type": "stream",
          "name": "stdout",
          "text": [
            "Hello,my name is Nayan and I am 23 years old.\n"
          ]
        }
      ]
    },
    {
      "cell_type": "code",
      "source": [
        "#12.Implement a class Student with attributes name and grades. Create a method average_grade() to compute the average of the grades.\n",
        "class Student:\n",
        "  def __init__(self,name,grades):\n",
        "    self.name = name\n",
        "    self.grades = grades\n",
        "\n",
        "  def average_grade(self):\n",
        "    return sum(self.grades) / len(self.grades)"
      ],
      "metadata": {
        "id": "FcQzO_LtXI58"
      },
      "execution_count": null,
      "outputs": []
    },
    {
      "cell_type": "code",
      "source": [
        "s = Student(\"nayan\",[100,50,80,30])"
      ],
      "metadata": {
        "id": "WkkIXNVWZc7X"
      },
      "execution_count": null,
      "outputs": []
    },
    {
      "cell_type": "code",
      "source": [
        "s.name"
      ],
      "metadata": {
        "colab": {
          "base_uri": "https://localhost:8080/",
          "height": 36
        },
        "id": "cDv58U_9bi7o",
        "outputId": "9f343130-7a69-4a76-e479-96cace279f72"
      },
      "execution_count": null,
      "outputs": [
        {
          "output_type": "execute_result",
          "data": {
            "text/plain": [
              "'nayan'"
            ],
            "application/vnd.google.colaboratory.intrinsic+json": {
              "type": "string"
            }
          },
          "metadata": {},
          "execution_count": 139
        }
      ]
    },
    {
      "cell_type": "code",
      "source": [
        "s.average_grade()"
      ],
      "metadata": {
        "colab": {
          "base_uri": "https://localhost:8080/"
        },
        "id": "rH5Af6R4Zg7h",
        "outputId": "d5ddadb2-9a36-463d-f830-6c1c3104783c"
      },
      "execution_count": null,
      "outputs": [
        {
          "output_type": "execute_result",
          "data": {
            "text/plain": [
              "65.0"
            ]
          },
          "metadata": {},
          "execution_count": 138
        }
      ]
    },
    {
      "cell_type": "code",
      "source": [
        "print(f\"{s.name}'s average grade is {s.average_grade()}\")"
      ],
      "metadata": {
        "colab": {
          "base_uri": "https://localhost:8080/"
        },
        "id": "42MCAHrUZinK",
        "outputId": "91b70334-00b4-4eba-826c-2581e0e26fcc"
      },
      "execution_count": null,
      "outputs": [
        {
          "output_type": "stream",
          "name": "stdout",
          "text": [
            "nayan's average grade is 65.0\n"
          ]
        }
      ]
    },
    {
      "cell_type": "code",
      "source": [
        "#13. Create a class Rectangle with methods set_dimensions() to set the dimensions and area() to calculate the area.\n",
        "class Rectangle:\n",
        "  def __init__(self):\n",
        "    self.length = 0\n",
        "    self.width = 0\n",
        "\n",
        "  def set_dimensions(self,length,width):\n",
        "    self.length = length\n",
        "    self.width = width\n",
        "\n",
        "  def area(self):\n",
        "    return self.length * self.width"
      ],
      "metadata": {
        "id": "MITbx6kmaEza"
      },
      "execution_count": null,
      "outputs": []
    },
    {
      "cell_type": "code",
      "source": [
        "r = Rectangle()"
      ],
      "metadata": {
        "id": "mB6AQbaUegYM"
      },
      "execution_count": null,
      "outputs": []
    },
    {
      "cell_type": "code",
      "source": [
        "r.set_dimensions(10,5)"
      ],
      "metadata": {
        "id": "kmNuijbsfx1L"
      },
      "execution_count": null,
      "outputs": []
    },
    {
      "cell_type": "code",
      "source": [
        "r.area()"
      ],
      "metadata": {
        "colab": {
          "base_uri": "https://localhost:8080/"
        },
        "id": "aItFAI-Qf0Qo",
        "outputId": "04bda66b-1f7d-4c21-f132-fdb785945436"
      },
      "execution_count": null,
      "outputs": [
        {
          "output_type": "execute_result",
          "data": {
            "text/plain": [
              "50"
            ]
          },
          "metadata": {},
          "execution_count": 162
        }
      ]
    },
    {
      "cell_type": "code",
      "source": [
        "#14. Create a class Employee with a method calculate_salary() that computes the salary based on hours worked and hourly rate. Create a derived class Manager that adds a bonus to the salary.\n",
        "class Employee:\n",
        "  def __init__(self,hours_worked,hourly_rate):\n",
        "    self.salary = 0\n",
        "    self.hours_worked = hours_worked\n",
        "    self.hourly_rate = hourly_rate\n",
        "\n",
        "\n",
        "  def calculate_salary(self):\n",
        "    self.salary =  self.hours_worked * self.hourly_rate\n",
        "    return self.salary\n",
        "\n",
        "class Manager(Employee):\n",
        "  def __init__(self,hours_worked,hourly_rate,bonus_amount):\n",
        "    super().__init__(hours_worked,hourly_rate)\n",
        "    self.bonus_amount = bonus_amount\n",
        "\n",
        "  def calculate_salary(self):\n",
        "    base_salary = super().calculate_salary()\n",
        "    return base_salary + self.bonus_amount"
      ],
      "metadata": {
        "id": "ixlm47Gpf11X"
      },
      "execution_count": null,
      "outputs": []
    },
    {
      "cell_type": "code",
      "source": [
        "e = Employee(30,50)"
      ],
      "metadata": {
        "id": "qkgq6mdrjc6_"
      },
      "execution_count": null,
      "outputs": []
    },
    {
      "cell_type": "code",
      "source": [
        "e.calculate_salary()"
      ],
      "metadata": {
        "colab": {
          "base_uri": "https://localhost:8080/"
        },
        "id": "gbeb92V9jg0x",
        "outputId": "8c1a03df-b8b1-4f0e-e29b-b1435578f664"
      },
      "execution_count": null,
      "outputs": [
        {
          "output_type": "execute_result",
          "data": {
            "text/plain": [
              "1500"
            ]
          },
          "metadata": {},
          "execution_count": 181
        }
      ]
    },
    {
      "cell_type": "code",
      "source": [
        "m = Manager(30,50,5000)"
      ],
      "metadata": {
        "id": "CvAT6NLhjyEj"
      },
      "execution_count": null,
      "outputs": []
    },
    {
      "cell_type": "code",
      "source": [
        "m.calculate_salary()"
      ],
      "metadata": {
        "colab": {
          "base_uri": "https://localhost:8080/"
        },
        "id": "tse7wOrYm3_8",
        "outputId": "1335dcdc-d929-4ce6-bab5-ee04c52b1aa3"
      },
      "execution_count": null,
      "outputs": [
        {
          "output_type": "execute_result",
          "data": {
            "text/plain": [
              "6500"
            ]
          },
          "metadata": {},
          "execution_count": 183
        }
      ]
    },
    {
      "cell_type": "code",
      "source": [
        "#15.Create a class Product with attributes name, price, and quantity. Implement a method total_price() that calculates the total price of the product.\n",
        "class Product:\n",
        "  def __init__(self,name,price,quantity):\n",
        "    self.name = name\n",
        "    self.price = price\n",
        "    self.quantity = quantity\n",
        "\n",
        "  def total_price(self):\n",
        "    return self.price * self.quantity\n"
      ],
      "metadata": {
        "id": "wa4mQQLQm7Xd"
      },
      "execution_count": null,
      "outputs": []
    },
    {
      "cell_type": "code",
      "source": [
        "p = Product(\"pen\",10,5)"
      ],
      "metadata": {
        "id": "3N-9bXhtp9nm"
      },
      "execution_count": null,
      "outputs": []
    },
    {
      "cell_type": "code",
      "source": [
        "p.name"
      ],
      "metadata": {
        "colab": {
          "base_uri": "https://localhost:8080/",
          "height": 36
        },
        "id": "6yIt0nhNqF4k",
        "outputId": "e39837c0-e730-4814-cebc-e9ebf64ad11b"
      },
      "execution_count": null,
      "outputs": [
        {
          "output_type": "execute_result",
          "data": {
            "text/plain": [
              "'pen'"
            ],
            "application/vnd.google.colaboratory.intrinsic+json": {
              "type": "string"
            }
          },
          "metadata": {},
          "execution_count": 192
        }
      ]
    },
    {
      "cell_type": "code",
      "source": [
        "p.price"
      ],
      "metadata": {
        "colab": {
          "base_uri": "https://localhost:8080/"
        },
        "id": "H6I09OWHqHM8",
        "outputId": "0496ed88-407c-4151-f445-dc7e14845889"
      },
      "execution_count": null,
      "outputs": [
        {
          "output_type": "execute_result",
          "data": {
            "text/plain": [
              "10"
            ]
          },
          "metadata": {},
          "execution_count": 193
        }
      ]
    },
    {
      "cell_type": "code",
      "source": [
        "p.quantity"
      ],
      "metadata": {
        "colab": {
          "base_uri": "https://localhost:8080/"
        },
        "id": "ksESyGe3qIWl",
        "outputId": "dfa6c5e3-8681-429a-bb01-284b95a31c1a"
      },
      "execution_count": null,
      "outputs": [
        {
          "output_type": "execute_result",
          "data": {
            "text/plain": [
              "5"
            ]
          },
          "metadata": {},
          "execution_count": 194
        }
      ]
    },
    {
      "cell_type": "code",
      "source": [
        "p.total_price()"
      ],
      "metadata": {
        "colab": {
          "base_uri": "https://localhost:8080/"
        },
        "id": "niTa1X1xqKQA",
        "outputId": "67ad118b-4336-49e0-8a76-64b34e4a11cf"
      },
      "execution_count": null,
      "outputs": [
        {
          "output_type": "execute_result",
          "data": {
            "text/plain": [
              "50"
            ]
          },
          "metadata": {},
          "execution_count": 195
        }
      ]
    },
    {
      "cell_type": "code",
      "source": [
        "#16.Create a class Animal with an abstract method sound(). Create two derived classes Cow and Sheep that implement the sound() method.\n",
        "import abc\n",
        "class Animal(abc.ABC):\n",
        "  @abc.abstractmethod\n",
        "  def sound(self):\n",
        "    pass\n",
        "\n",
        "class Cow(Animal):\n",
        "  def sound(self):\n",
        "    print(\"This is the sound of cow: Moo\")\n",
        "\n",
        "class Sheep(Animal):\n",
        "  def sound(self):\n",
        "    print(\"This is the sound of sheep: Baa\")\n"
      ],
      "metadata": {
        "id": "PKuaZ7w4qMki"
      },
      "execution_count": null,
      "outputs": []
    },
    {
      "cell_type": "code",
      "source": [
        "s1 = Cow()"
      ],
      "metadata": {
        "id": "6EE8VyAmUyk5"
      },
      "execution_count": null,
      "outputs": []
    },
    {
      "cell_type": "code",
      "source": [
        "s2 = Sheep()"
      ],
      "metadata": {
        "id": "UcV_utqdVB-b"
      },
      "execution_count": null,
      "outputs": []
    },
    {
      "cell_type": "code",
      "source": [
        "obj = [s1,s2]"
      ],
      "metadata": {
        "id": "eDNpUX_mVI1b"
      },
      "execution_count": null,
      "outputs": []
    },
    {
      "cell_type": "code",
      "source": [
        "def Animal_sound(obj):\n",
        "  for i in obj:\n",
        "    i.sound()\n",
        "Animal_sound(obj)"
      ],
      "metadata": {
        "colab": {
          "base_uri": "https://localhost:8080/"
        },
        "id": "OwKkkihmVLlc",
        "outputId": "679996fb-c71e-4dda-bc55-cffc6ec526c8"
      },
      "execution_count": null,
      "outputs": [
        {
          "output_type": "stream",
          "name": "stdout",
          "text": [
            "This is the sound of cow: Moo\n",
            "This is the sound of sheep: Baa\n"
          ]
        }
      ]
    },
    {
      "cell_type": "code",
      "source": [
        "#17. Create a class Book with attributes title, author, and year_published. Add a method get_book_info() that returns a formatted string with the book's details.\n",
        "class Book:\n",
        "  def __init__(self,title,author,year_published):\n",
        "    self.title = title\n",
        "    self.author = author\n",
        "    self.year_published = year_published\n",
        "\n",
        "  def get_book_info(self):\n",
        "    return f\"The title of book is {self.title}, and author name is {self.author}, and year book published {self.year_published}.\"\n"
      ],
      "metadata": {
        "id": "-QuZxVUDVW9R"
      },
      "execution_count": null,
      "outputs": []
    },
    {
      "cell_type": "code",
      "source": [
        "b = Book(\"DSA\",\"Jack\",2005)"
      ],
      "metadata": {
        "id": "w34nlQKjYUwO"
      },
      "execution_count": null,
      "outputs": []
    },
    {
      "cell_type": "code",
      "source": [
        "b.title"
      ],
      "metadata": {
        "colab": {
          "base_uri": "https://localhost:8080/",
          "height": 36
        },
        "id": "rhEQuCGAYfXY",
        "outputId": "72e00271-1786-4c93-c89b-4eab1d8c0be9"
      },
      "execution_count": null,
      "outputs": [
        {
          "output_type": "execute_result",
          "data": {
            "text/plain": [
              "'DSA'"
            ],
            "application/vnd.google.colaboratory.intrinsic+json": {
              "type": "string"
            }
          },
          "metadata": {},
          "execution_count": 47
        }
      ]
    },
    {
      "cell_type": "code",
      "source": [
        "b.author"
      ],
      "metadata": {
        "colab": {
          "base_uri": "https://localhost:8080/",
          "height": 36
        },
        "id": "agylZuU4YhIO",
        "outputId": "e90da592-d720-4d6d-f5da-55fa66e532e0"
      },
      "execution_count": null,
      "outputs": [
        {
          "output_type": "execute_result",
          "data": {
            "text/plain": [
              "'Jack'"
            ],
            "application/vnd.google.colaboratory.intrinsic+json": {
              "type": "string"
            }
          },
          "metadata": {},
          "execution_count": 48
        }
      ]
    },
    {
      "cell_type": "code",
      "source": [
        "b.year_published"
      ],
      "metadata": {
        "colab": {
          "base_uri": "https://localhost:8080/"
        },
        "id": "i2hCPuOJYi-F",
        "outputId": "f8e4c251-8bed-410d-af15-03e639831099"
      },
      "execution_count": null,
      "outputs": [
        {
          "output_type": "execute_result",
          "data": {
            "text/plain": [
              "2005"
            ]
          },
          "metadata": {},
          "execution_count": 49
        }
      ]
    },
    {
      "cell_type": "code",
      "source": [
        "b.get_book_info()"
      ],
      "metadata": {
        "colab": {
          "base_uri": "https://localhost:8080/",
          "height": 36
        },
        "id": "iNGYYhW9Ykb3",
        "outputId": "8707ddad-a59a-4490-b0fd-4e4200f8b0a3"
      },
      "execution_count": null,
      "outputs": [
        {
          "output_type": "execute_result",
          "data": {
            "text/plain": [
              "'The title of book is DSA, and author name is Jack, and year book published 2005.'"
            ],
            "application/vnd.google.colaboratory.intrinsic+json": {
              "type": "string"
            }
          },
          "metadata": {},
          "execution_count": 50
        }
      ]
    },
    {
      "cell_type": "code",
      "source": [
        "#18.Create a class House with attributes address and price. Create a derived class Mansion that adds an attribute number_of_rooms.\n",
        "class House:\n",
        "  def __init__(self,address,price):\n",
        "    self.address = address\n",
        "    self.price = price\n",
        "\n",
        "class Mansion(House):\n",
        "  def __init__(self,address,price,number_of_rooms):\n",
        "    super().__init__(address,price)\n",
        "    self.number_of_rooms = number_of_rooms\n",
        "\n",
        "  def get_info(self):\n",
        "    return f\"address : {self.address}, price {self.price}, number of rooms {self.number_of_rooms}\""
      ],
      "metadata": {
        "id": "7-j-9yuyYmZv"
      },
      "execution_count": null,
      "outputs": []
    },
    {
      "cell_type": "code",
      "source": [
        "m = Mansion(\"mumbai road No 1\",\"1cr\",\"10\")"
      ],
      "metadata": {
        "id": "B1EMuOIRae-h"
      },
      "execution_count": null,
      "outputs": []
    },
    {
      "cell_type": "code",
      "source": [
        "m.get_info()"
      ],
      "metadata": {
        "colab": {
          "base_uri": "https://localhost:8080/",
          "height": 36
        },
        "id": "82Ob8xZoapRH",
        "outputId": "d40fd7a0-91cd-42eb-dc36-b1b204ff019c"
      },
      "execution_count": null,
      "outputs": [
        {
          "output_type": "execute_result",
          "data": {
            "text/plain": [
              "'address : mumbai road No 1, price 1cr, number of rooms 10'"
            ],
            "application/vnd.google.colaboratory.intrinsic+json": {
              "type": "string"
            }
          },
          "metadata": {},
          "execution_count": 59
        }
      ]
    }
  ]
}